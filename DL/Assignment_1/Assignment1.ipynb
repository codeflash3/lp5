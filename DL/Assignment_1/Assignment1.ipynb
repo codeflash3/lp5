{
 "cells": [
  {
   "cell_type": "code",
   "execution_count": 3,
   "id": "36e90601",
   "metadata": {
    "scrolled": true
   },
   "outputs": [],
   "source": [
    "import pandas as pd\n",
    "import matplotlib.pyplot as plt"
   ]
  },
  {
   "cell_type": "markdown",
   "id": "09c0d469",
   "metadata": {},
   "source": [
    "### Load Dataset"
   ]
  },
  {
   "cell_type": "code",
   "execution_count": 4,
   "id": "64638d93",
   "metadata": {},
   "outputs": [
    {
     "data": {
      "text/html": [
       "<div>\n",
       "<style scoped>\n",
       "    .dataframe tbody tr th:only-of-type {\n",
       "        vertical-align: middle;\n",
       "    }\n",
       "\n",
       "    .dataframe tbody tr th {\n",
       "        vertical-align: top;\n",
       "    }\n",
       "\n",
       "    .dataframe thead th {\n",
       "        text-align: right;\n",
       "    }\n",
       "</style>\n",
       "<table border=\"1\" class=\"dataframe\">\n",
       "  <thead>\n",
       "    <tr style=\"text-align: right;\">\n",
       "      <th></th>\n",
       "      <th>CRIM</th>\n",
       "      <th>ZN</th>\n",
       "      <th>INDUS</th>\n",
       "      <th>CHAS</th>\n",
       "      <th>NOX</th>\n",
       "      <th>RM</th>\n",
       "      <th>AGE</th>\n",
       "      <th>DIS</th>\n",
       "      <th>RAD</th>\n",
       "      <th>TAX</th>\n",
       "      <th>PTRATIO</th>\n",
       "      <th>B</th>\n",
       "      <th>LSTAT</th>\n",
       "      <th>MEDV</th>\n",
       "      <th>CAT. MEDV</th>\n",
       "      <th>Unnamed: 15</th>\n",
       "      <th>Unnamed: 16</th>\n",
       "    </tr>\n",
       "  </thead>\n",
       "  <tbody>\n",
       "    <tr>\n",
       "      <th>0</th>\n",
       "      <td>0.00632</td>\n",
       "      <td>18.0</td>\n",
       "      <td>2.31</td>\n",
       "      <td>0</td>\n",
       "      <td>0.538</td>\n",
       "      <td>6.575</td>\n",
       "      <td>65.2</td>\n",
       "      <td>4.0900</td>\n",
       "      <td>1</td>\n",
       "      <td>296</td>\n",
       "      <td>15.3</td>\n",
       "      <td>396.90</td>\n",
       "      <td>4.98</td>\n",
       "      <td>24.0</td>\n",
       "      <td>0</td>\n",
       "      <td>NaN</td>\n",
       "      <td>NaN</td>\n",
       "    </tr>\n",
       "    <tr>\n",
       "      <th>1</th>\n",
       "      <td>0.02731</td>\n",
       "      <td>0.0</td>\n",
       "      <td>7.07</td>\n",
       "      <td>0</td>\n",
       "      <td>0.469</td>\n",
       "      <td>6.421</td>\n",
       "      <td>78.9</td>\n",
       "      <td>4.9671</td>\n",
       "      <td>2</td>\n",
       "      <td>242</td>\n",
       "      <td>17.8</td>\n",
       "      <td>396.90</td>\n",
       "      <td>9.14</td>\n",
       "      <td>21.6</td>\n",
       "      <td>0</td>\n",
       "      <td>NaN</td>\n",
       "      <td>NaN</td>\n",
       "    </tr>\n",
       "    <tr>\n",
       "      <th>2</th>\n",
       "      <td>0.02729</td>\n",
       "      <td>0.0</td>\n",
       "      <td>7.07</td>\n",
       "      <td>0</td>\n",
       "      <td>0.469</td>\n",
       "      <td>7.185</td>\n",
       "      <td>61.1</td>\n",
       "      <td>4.9671</td>\n",
       "      <td>2</td>\n",
       "      <td>242</td>\n",
       "      <td>17.8</td>\n",
       "      <td>392.83</td>\n",
       "      <td>4.03</td>\n",
       "      <td>34.7</td>\n",
       "      <td>1</td>\n",
       "      <td>NaN</td>\n",
       "      <td>NaN</td>\n",
       "    </tr>\n",
       "    <tr>\n",
       "      <th>3</th>\n",
       "      <td>0.03237</td>\n",
       "      <td>0.0</td>\n",
       "      <td>2.18</td>\n",
       "      <td>0</td>\n",
       "      <td>0.458</td>\n",
       "      <td>6.998</td>\n",
       "      <td>45.8</td>\n",
       "      <td>6.0622</td>\n",
       "      <td>3</td>\n",
       "      <td>222</td>\n",
       "      <td>18.7</td>\n",
       "      <td>394.63</td>\n",
       "      <td>2.94</td>\n",
       "      <td>33.4</td>\n",
       "      <td>1</td>\n",
       "      <td>NaN</td>\n",
       "      <td>NaN</td>\n",
       "    </tr>\n",
       "    <tr>\n",
       "      <th>4</th>\n",
       "      <td>0.06905</td>\n",
       "      <td>0.0</td>\n",
       "      <td>2.18</td>\n",
       "      <td>0</td>\n",
       "      <td>0.458</td>\n",
       "      <td>7.147</td>\n",
       "      <td>54.2</td>\n",
       "      <td>6.0622</td>\n",
       "      <td>3</td>\n",
       "      <td>222</td>\n",
       "      <td>18.7</td>\n",
       "      <td>396.90</td>\n",
       "      <td>5.33</td>\n",
       "      <td>36.2</td>\n",
       "      <td>1</td>\n",
       "      <td>NaN</td>\n",
       "      <td>NaN</td>\n",
       "    </tr>\n",
       "    <tr>\n",
       "      <th>5</th>\n",
       "      <td>0.02985</td>\n",
       "      <td>0.0</td>\n",
       "      <td>2.18</td>\n",
       "      <td>0</td>\n",
       "      <td>0.458</td>\n",
       "      <td>6.430</td>\n",
       "      <td>58.7</td>\n",
       "      <td>6.0622</td>\n",
       "      <td>3</td>\n",
       "      <td>222</td>\n",
       "      <td>18.7</td>\n",
       "      <td>394.12</td>\n",
       "      <td>5.21</td>\n",
       "      <td>28.7</td>\n",
       "      <td>0</td>\n",
       "      <td>NaN</td>\n",
       "      <td>NaN</td>\n",
       "    </tr>\n",
       "    <tr>\n",
       "      <th>6</th>\n",
       "      <td>0.08829</td>\n",
       "      <td>12.5</td>\n",
       "      <td>7.87</td>\n",
       "      <td>0</td>\n",
       "      <td>0.524</td>\n",
       "      <td>6.012</td>\n",
       "      <td>66.6</td>\n",
       "      <td>5.5605</td>\n",
       "      <td>5</td>\n",
       "      <td>311</td>\n",
       "      <td>15.2</td>\n",
       "      <td>395.60</td>\n",
       "      <td>12.43</td>\n",
       "      <td>22.9</td>\n",
       "      <td>0</td>\n",
       "      <td>NaN</td>\n",
       "      <td>NaN</td>\n",
       "    </tr>\n",
       "    <tr>\n",
       "      <th>7</th>\n",
       "      <td>0.14455</td>\n",
       "      <td>12.5</td>\n",
       "      <td>7.87</td>\n",
       "      <td>0</td>\n",
       "      <td>0.524</td>\n",
       "      <td>6.172</td>\n",
       "      <td>96.1</td>\n",
       "      <td>5.9505</td>\n",
       "      <td>5</td>\n",
       "      <td>311</td>\n",
       "      <td>15.2</td>\n",
       "      <td>396.90</td>\n",
       "      <td>19.15</td>\n",
       "      <td>27.1</td>\n",
       "      <td>0</td>\n",
       "      <td>NaN</td>\n",
       "      <td>NaN</td>\n",
       "    </tr>\n",
       "    <tr>\n",
       "      <th>8</th>\n",
       "      <td>0.21124</td>\n",
       "      <td>12.5</td>\n",
       "      <td>7.87</td>\n",
       "      <td>0</td>\n",
       "      <td>0.524</td>\n",
       "      <td>5.631</td>\n",
       "      <td>100.0</td>\n",
       "      <td>6.0821</td>\n",
       "      <td>5</td>\n",
       "      <td>311</td>\n",
       "      <td>15.2</td>\n",
       "      <td>386.63</td>\n",
       "      <td>29.93</td>\n",
       "      <td>16.5</td>\n",
       "      <td>0</td>\n",
       "      <td>NaN</td>\n",
       "      <td>NaN</td>\n",
       "    </tr>\n",
       "    <tr>\n",
       "      <th>9</th>\n",
       "      <td>0.17004</td>\n",
       "      <td>12.5</td>\n",
       "      <td>7.87</td>\n",
       "      <td>0</td>\n",
       "      <td>0.524</td>\n",
       "      <td>6.004</td>\n",
       "      <td>85.9</td>\n",
       "      <td>6.5921</td>\n",
       "      <td>5</td>\n",
       "      <td>311</td>\n",
       "      <td>15.2</td>\n",
       "      <td>386.71</td>\n",
       "      <td>17.10</td>\n",
       "      <td>18.9</td>\n",
       "      <td>0</td>\n",
       "      <td>NaN</td>\n",
       "      <td>NaN</td>\n",
       "    </tr>\n",
       "  </tbody>\n",
       "</table>\n",
       "</div>"
      ],
      "text/plain": [
       "      CRIM    ZN  INDUS  CHAS    NOX     RM    AGE     DIS  RAD  TAX  PTRATIO   \n",
       "0  0.00632  18.0   2.31     0  0.538  6.575   65.2  4.0900    1  296     15.3  \\\n",
       "1  0.02731   0.0   7.07     0  0.469  6.421   78.9  4.9671    2  242     17.8   \n",
       "2  0.02729   0.0   7.07     0  0.469  7.185   61.1  4.9671    2  242     17.8   \n",
       "3  0.03237   0.0   2.18     0  0.458  6.998   45.8  6.0622    3  222     18.7   \n",
       "4  0.06905   0.0   2.18     0  0.458  7.147   54.2  6.0622    3  222     18.7   \n",
       "5  0.02985   0.0   2.18     0  0.458  6.430   58.7  6.0622    3  222     18.7   \n",
       "6  0.08829  12.5   7.87     0  0.524  6.012   66.6  5.5605    5  311     15.2   \n",
       "7  0.14455  12.5   7.87     0  0.524  6.172   96.1  5.9505    5  311     15.2   \n",
       "8  0.21124  12.5   7.87     0  0.524  5.631  100.0  6.0821    5  311     15.2   \n",
       "9  0.17004  12.5   7.87     0  0.524  6.004   85.9  6.5921    5  311     15.2   \n",
       "\n",
       "        B  LSTAT  MEDV  CAT. MEDV  Unnamed: 15  Unnamed: 16  \n",
       "0  396.90   4.98  24.0          0          NaN          NaN  \n",
       "1  396.90   9.14  21.6          0          NaN          NaN  \n",
       "2  392.83   4.03  34.7          1          NaN          NaN  \n",
       "3  394.63   2.94  33.4          1          NaN          NaN  \n",
       "4  396.90   5.33  36.2          1          NaN          NaN  \n",
       "5  394.12   5.21  28.7          0          NaN          NaN  \n",
       "6  395.60  12.43  22.9          0          NaN          NaN  \n",
       "7  396.90  19.15  27.1          0          NaN          NaN  \n",
       "8  386.63  29.93  16.5          0          NaN          NaN  \n",
       "9  386.71  17.10  18.9          0          NaN          NaN  "
      ]
     },
     "execution_count": 4,
     "metadata": {},
     "output_type": "execute_result"
    }
   ],
   "source": [
    "df = pd.read_csv('Boston.csv')\n",
    "df.head(10)"
   ]
  },
  {
   "cell_type": "code",
   "execution_count": 5,
   "id": "55426a1b",
   "metadata": {},
   "outputs": [],
   "source": [
    "df.drop(columns=['Unnamed: 15','Unnamed: 16'],inplace=True)"
   ]
  },
  {
   "cell_type": "code",
   "execution_count": 6,
   "id": "dade5278",
   "metadata": {},
   "outputs": [],
   "source": [
    "df.drop(columns=['CAT. MEDV'],inplace=True)"
   ]
  },
  {
   "cell_type": "markdown",
   "id": "17d566fe",
   "metadata": {},
   "source": [
    "#### Checking for null values"
   ]
  },
  {
   "cell_type": "code",
   "execution_count": 7,
   "id": "e4792737",
   "metadata": {},
   "outputs": [
    {
     "data": {
      "text/plain": [
       "CRIM       0\n",
       "ZN         0\n",
       "INDUS      0\n",
       "CHAS       0\n",
       "NOX        0\n",
       "RM         0\n",
       "AGE        0\n",
       "DIS        0\n",
       "RAD        0\n",
       "TAX        0\n",
       "PTRATIO    0\n",
       "B          0\n",
       "LSTAT      0\n",
       "MEDV       0\n",
       "dtype: int64"
      ]
     },
     "execution_count": 7,
     "metadata": {},
     "output_type": "execute_result"
    }
   ],
   "source": [
    "df.isnull().sum()"
   ]
  },
  {
   "cell_type": "code",
   "execution_count": 8,
   "id": "036b309e",
   "metadata": {},
   "outputs": [
    {
     "name": "stdout",
     "output_type": "stream",
     "text": [
      "<class 'pandas.core.frame.DataFrame'>\n",
      "RangeIndex: 506 entries, 0 to 505\n",
      "Data columns (total 14 columns):\n",
      " #   Column   Non-Null Count  Dtype  \n",
      "---  ------   --------------  -----  \n",
      " 0   CRIM     506 non-null    float64\n",
      " 1   ZN       506 non-null    float64\n",
      " 2   INDUS    506 non-null    float64\n",
      " 3   CHAS     506 non-null    int64  \n",
      " 4   NOX      506 non-null    float64\n",
      " 5   RM       506 non-null    float64\n",
      " 6   AGE      506 non-null    float64\n",
      " 7   DIS      506 non-null    float64\n",
      " 8   RAD      506 non-null    int64  \n",
      " 9   TAX      506 non-null    int64  \n",
      " 10  PTRATIO  506 non-null    float64\n",
      " 11  B        506 non-null    float64\n",
      " 12  LSTAT    506 non-null    float64\n",
      " 13  MEDV     506 non-null    float64\n",
      "dtypes: float64(11), int64(3)\n",
      "memory usage: 55.5 KB\n"
     ]
    }
   ],
   "source": [
    "df.info()"
   ]
  },
  {
   "cell_type": "code",
   "execution_count": 9,
   "id": "851ae670",
   "metadata": {},
   "outputs": [
    {
     "data": {
      "text/html": [
       "<div>\n",
       "<style scoped>\n",
       "    .dataframe tbody tr th:only-of-type {\n",
       "        vertical-align: middle;\n",
       "    }\n",
       "\n",
       "    .dataframe tbody tr th {\n",
       "        vertical-align: top;\n",
       "    }\n",
       "\n",
       "    .dataframe thead th {\n",
       "        text-align: right;\n",
       "    }\n",
       "</style>\n",
       "<table border=\"1\" class=\"dataframe\">\n",
       "  <thead>\n",
       "    <tr style=\"text-align: right;\">\n",
       "      <th></th>\n",
       "      <th>CRIM</th>\n",
       "      <th>ZN</th>\n",
       "      <th>INDUS</th>\n",
       "      <th>CHAS</th>\n",
       "      <th>NOX</th>\n",
       "      <th>RM</th>\n",
       "      <th>AGE</th>\n",
       "      <th>DIS</th>\n",
       "      <th>RAD</th>\n",
       "      <th>TAX</th>\n",
       "      <th>PTRATIO</th>\n",
       "      <th>B</th>\n",
       "      <th>LSTAT</th>\n",
       "      <th>MEDV</th>\n",
       "    </tr>\n",
       "  </thead>\n",
       "  <tbody>\n",
       "    <tr>\n",
       "      <th>count</th>\n",
       "      <td>506.000000</td>\n",
       "      <td>506.000000</td>\n",
       "      <td>506.000000</td>\n",
       "      <td>506.000000</td>\n",
       "      <td>506.000000</td>\n",
       "      <td>506.000000</td>\n",
       "      <td>506.000000</td>\n",
       "      <td>506.000000</td>\n",
       "      <td>506.000000</td>\n",
       "      <td>506.000000</td>\n",
       "      <td>506.000000</td>\n",
       "      <td>506.000000</td>\n",
       "      <td>506.000000</td>\n",
       "      <td>506.000000</td>\n",
       "    </tr>\n",
       "    <tr>\n",
       "      <th>mean</th>\n",
       "      <td>3.613524</td>\n",
       "      <td>11.363636</td>\n",
       "      <td>11.136779</td>\n",
       "      <td>0.069170</td>\n",
       "      <td>0.554695</td>\n",
       "      <td>6.284634</td>\n",
       "      <td>68.574901</td>\n",
       "      <td>3.795043</td>\n",
       "      <td>9.549407</td>\n",
       "      <td>408.237154</td>\n",
       "      <td>18.455534</td>\n",
       "      <td>356.674032</td>\n",
       "      <td>12.653063</td>\n",
       "      <td>22.532806</td>\n",
       "    </tr>\n",
       "    <tr>\n",
       "      <th>std</th>\n",
       "      <td>8.601545</td>\n",
       "      <td>23.322453</td>\n",
       "      <td>6.860353</td>\n",
       "      <td>0.253994</td>\n",
       "      <td>0.115878</td>\n",
       "      <td>0.702617</td>\n",
       "      <td>28.148861</td>\n",
       "      <td>2.105710</td>\n",
       "      <td>8.707259</td>\n",
       "      <td>168.537116</td>\n",
       "      <td>2.164946</td>\n",
       "      <td>91.294864</td>\n",
       "      <td>7.141062</td>\n",
       "      <td>9.197104</td>\n",
       "    </tr>\n",
       "    <tr>\n",
       "      <th>min</th>\n",
       "      <td>0.006320</td>\n",
       "      <td>0.000000</td>\n",
       "      <td>0.460000</td>\n",
       "      <td>0.000000</td>\n",
       "      <td>0.385000</td>\n",
       "      <td>3.561000</td>\n",
       "      <td>2.900000</td>\n",
       "      <td>1.129600</td>\n",
       "      <td>1.000000</td>\n",
       "      <td>187.000000</td>\n",
       "      <td>12.600000</td>\n",
       "      <td>0.320000</td>\n",
       "      <td>1.730000</td>\n",
       "      <td>5.000000</td>\n",
       "    </tr>\n",
       "    <tr>\n",
       "      <th>25%</th>\n",
       "      <td>0.082045</td>\n",
       "      <td>0.000000</td>\n",
       "      <td>5.190000</td>\n",
       "      <td>0.000000</td>\n",
       "      <td>0.449000</td>\n",
       "      <td>5.885500</td>\n",
       "      <td>45.025000</td>\n",
       "      <td>2.100175</td>\n",
       "      <td>4.000000</td>\n",
       "      <td>279.000000</td>\n",
       "      <td>17.400000</td>\n",
       "      <td>375.377500</td>\n",
       "      <td>6.950000</td>\n",
       "      <td>17.025000</td>\n",
       "    </tr>\n",
       "    <tr>\n",
       "      <th>50%</th>\n",
       "      <td>0.256510</td>\n",
       "      <td>0.000000</td>\n",
       "      <td>9.690000</td>\n",
       "      <td>0.000000</td>\n",
       "      <td>0.538000</td>\n",
       "      <td>6.208500</td>\n",
       "      <td>77.500000</td>\n",
       "      <td>3.207450</td>\n",
       "      <td>5.000000</td>\n",
       "      <td>330.000000</td>\n",
       "      <td>19.050000</td>\n",
       "      <td>391.440000</td>\n",
       "      <td>11.360000</td>\n",
       "      <td>21.200000</td>\n",
       "    </tr>\n",
       "    <tr>\n",
       "      <th>75%</th>\n",
       "      <td>3.677083</td>\n",
       "      <td>12.500000</td>\n",
       "      <td>18.100000</td>\n",
       "      <td>0.000000</td>\n",
       "      <td>0.624000</td>\n",
       "      <td>6.623500</td>\n",
       "      <td>94.075000</td>\n",
       "      <td>5.188425</td>\n",
       "      <td>24.000000</td>\n",
       "      <td>666.000000</td>\n",
       "      <td>20.200000</td>\n",
       "      <td>396.225000</td>\n",
       "      <td>16.955000</td>\n",
       "      <td>25.000000</td>\n",
       "    </tr>\n",
       "    <tr>\n",
       "      <th>max</th>\n",
       "      <td>88.976200</td>\n",
       "      <td>100.000000</td>\n",
       "      <td>27.740000</td>\n",
       "      <td>1.000000</td>\n",
       "      <td>0.871000</td>\n",
       "      <td>8.780000</td>\n",
       "      <td>100.000000</td>\n",
       "      <td>12.126500</td>\n",
       "      <td>24.000000</td>\n",
       "      <td>711.000000</td>\n",
       "      <td>22.000000</td>\n",
       "      <td>396.900000</td>\n",
       "      <td>37.970000</td>\n",
       "      <td>50.000000</td>\n",
       "    </tr>\n",
       "  </tbody>\n",
       "</table>\n",
       "</div>"
      ],
      "text/plain": [
       "             CRIM          ZN       INDUS        CHAS         NOX          RM   \n",
       "count  506.000000  506.000000  506.000000  506.000000  506.000000  506.000000  \\\n",
       "mean     3.613524   11.363636   11.136779    0.069170    0.554695    6.284634   \n",
       "std      8.601545   23.322453    6.860353    0.253994    0.115878    0.702617   \n",
       "min      0.006320    0.000000    0.460000    0.000000    0.385000    3.561000   \n",
       "25%      0.082045    0.000000    5.190000    0.000000    0.449000    5.885500   \n",
       "50%      0.256510    0.000000    9.690000    0.000000    0.538000    6.208500   \n",
       "75%      3.677083   12.500000   18.100000    0.000000    0.624000    6.623500   \n",
       "max     88.976200  100.000000   27.740000    1.000000    0.871000    8.780000   \n",
       "\n",
       "              AGE         DIS         RAD         TAX     PTRATIO           B   \n",
       "count  506.000000  506.000000  506.000000  506.000000  506.000000  506.000000  \\\n",
       "mean    68.574901    3.795043    9.549407  408.237154   18.455534  356.674032   \n",
       "std     28.148861    2.105710    8.707259  168.537116    2.164946   91.294864   \n",
       "min      2.900000    1.129600    1.000000  187.000000   12.600000    0.320000   \n",
       "25%     45.025000    2.100175    4.000000  279.000000   17.400000  375.377500   \n",
       "50%     77.500000    3.207450    5.000000  330.000000   19.050000  391.440000   \n",
       "75%     94.075000    5.188425   24.000000  666.000000   20.200000  396.225000   \n",
       "max    100.000000   12.126500   24.000000  711.000000   22.000000  396.900000   \n",
       "\n",
       "            LSTAT        MEDV  \n",
       "count  506.000000  506.000000  \n",
       "mean    12.653063   22.532806  \n",
       "std      7.141062    9.197104  \n",
       "min      1.730000    5.000000  \n",
       "25%      6.950000   17.025000  \n",
       "50%     11.360000   21.200000  \n",
       "75%     16.955000   25.000000  \n",
       "max     37.970000   50.000000  "
      ]
     },
     "execution_count": 9,
     "metadata": {},
     "output_type": "execute_result"
    }
   ],
   "source": [
    "df.describe()"
   ]
  },
  {
   "cell_type": "markdown",
   "id": "44bc6735",
   "metadata": {},
   "source": [
    "#### Checking correlation with target variable MEDV"
   ]
  },
  {
   "cell_type": "code",
   "execution_count": 10,
   "id": "64ef4b15",
   "metadata": {},
   "outputs": [
    {
     "data": {
      "text/plain": [
       "LSTAT     -0.737663\n",
       "PTRATIO   -0.507787\n",
       "INDUS     -0.483725\n",
       "TAX       -0.468536\n",
       "NOX       -0.427321\n",
       "CRIM      -0.388305\n",
       "RAD       -0.381626\n",
       "AGE       -0.376955\n",
       "CHAS       0.175260\n",
       "DIS        0.249929\n",
       "B          0.333461\n",
       "ZN         0.360445\n",
       "RM         0.695360\n",
       "MEDV       1.000000\n",
       "Name: MEDV, dtype: float64"
      ]
     },
     "execution_count": 10,
     "metadata": {},
     "output_type": "execute_result"
    }
   ],
   "source": [
    "df.corr()['MEDV'].sort_values()"
   ]
  },
  {
   "cell_type": "code",
   "execution_count": 11,
   "id": "7168e688",
   "metadata": {},
   "outputs": [
    {
     "data": {
      "text/plain": [
       "((506, 3), (506,))"
      ]
     },
     "execution_count": 11,
     "metadata": {},
     "output_type": "execute_result"
    }
   ],
   "source": [
    "X = df.loc[:,['LSTAT','PTRATIO','RM']]\n",
    "Y = df.loc[:,\"MEDV\"]\n",
    "X.shape,Y.shape"
   ]
  },
  {
   "cell_type": "markdown",
   "id": "08648c29",
   "metadata": {},
   "source": [
    "### Preparing training and testing data set"
   ]
  },
  {
   "cell_type": "code",
   "execution_count": 14,
   "id": "cecea370",
   "metadata": {},
   "outputs": [],
   "source": [
    "from sklearn.model_selection import train_test_split\n",
    "x_train,x_test,y_train,y_test = train_test_split(X,Y,test_size=0.25,random_state=10)"
   ]
  },
  {
   "cell_type": "markdown",
   "id": "7eabb9f2",
   "metadata": {},
   "source": [
    "### Normalizing training and testing dataset"
   ]
  },
  {
   "cell_type": "code",
   "execution_count": 15,
   "id": "926fe0ce",
   "metadata": {},
   "outputs": [],
   "source": [
    "from sklearn.preprocessing import StandardScaler"
   ]
  },
  {
   "cell_type": "code",
   "execution_count": 16,
   "id": "1e49c4a2",
   "metadata": {},
   "outputs": [],
   "source": [
    "scaler = StandardScaler()"
   ]
  },
  {
   "cell_type": "code",
   "execution_count": 17,
   "id": "b99b26de",
   "metadata": {},
   "outputs": [
    {
     "data": {
      "text/html": [
       "<style>#sk-container-id-1 {color: black;background-color: white;}#sk-container-id-1 pre{padding: 0;}#sk-container-id-1 div.sk-toggleable {background-color: white;}#sk-container-id-1 label.sk-toggleable__label {cursor: pointer;display: block;width: 100%;margin-bottom: 0;padding: 0.3em;box-sizing: border-box;text-align: center;}#sk-container-id-1 label.sk-toggleable__label-arrow:before {content: \"▸\";float: left;margin-right: 0.25em;color: #696969;}#sk-container-id-1 label.sk-toggleable__label-arrow:hover:before {color: black;}#sk-container-id-1 div.sk-estimator:hover label.sk-toggleable__label-arrow:before {color: black;}#sk-container-id-1 div.sk-toggleable__content {max-height: 0;max-width: 0;overflow: hidden;text-align: left;background-color: #f0f8ff;}#sk-container-id-1 div.sk-toggleable__content pre {margin: 0.2em;color: black;border-radius: 0.25em;background-color: #f0f8ff;}#sk-container-id-1 input.sk-toggleable__control:checked~div.sk-toggleable__content {max-height: 200px;max-width: 100%;overflow: auto;}#sk-container-id-1 input.sk-toggleable__control:checked~label.sk-toggleable__label-arrow:before {content: \"▾\";}#sk-container-id-1 div.sk-estimator input.sk-toggleable__control:checked~label.sk-toggleable__label {background-color: #d4ebff;}#sk-container-id-1 div.sk-label input.sk-toggleable__control:checked~label.sk-toggleable__label {background-color: #d4ebff;}#sk-container-id-1 input.sk-hidden--visually {border: 0;clip: rect(1px 1px 1px 1px);clip: rect(1px, 1px, 1px, 1px);height: 1px;margin: -1px;overflow: hidden;padding: 0;position: absolute;width: 1px;}#sk-container-id-1 div.sk-estimator {font-family: monospace;background-color: #f0f8ff;border: 1px dotted black;border-radius: 0.25em;box-sizing: border-box;margin-bottom: 0.5em;}#sk-container-id-1 div.sk-estimator:hover {background-color: #d4ebff;}#sk-container-id-1 div.sk-parallel-item::after {content: \"\";width: 100%;border-bottom: 1px solid gray;flex-grow: 1;}#sk-container-id-1 div.sk-label:hover label.sk-toggleable__label {background-color: #d4ebff;}#sk-container-id-1 div.sk-serial::before {content: \"\";position: absolute;border-left: 1px solid gray;box-sizing: border-box;top: 0;bottom: 0;left: 50%;z-index: 0;}#sk-container-id-1 div.sk-serial {display: flex;flex-direction: column;align-items: center;background-color: white;padding-right: 0.2em;padding-left: 0.2em;position: relative;}#sk-container-id-1 div.sk-item {position: relative;z-index: 1;}#sk-container-id-1 div.sk-parallel {display: flex;align-items: stretch;justify-content: center;background-color: white;position: relative;}#sk-container-id-1 div.sk-item::before, #sk-container-id-1 div.sk-parallel-item::before {content: \"\";position: absolute;border-left: 1px solid gray;box-sizing: border-box;top: 0;bottom: 0;left: 50%;z-index: -1;}#sk-container-id-1 div.sk-parallel-item {display: flex;flex-direction: column;z-index: 1;position: relative;background-color: white;}#sk-container-id-1 div.sk-parallel-item:first-child::after {align-self: flex-end;width: 50%;}#sk-container-id-1 div.sk-parallel-item:last-child::after {align-self: flex-start;width: 50%;}#sk-container-id-1 div.sk-parallel-item:only-child::after {width: 0;}#sk-container-id-1 div.sk-dashed-wrapped {border: 1px dashed gray;margin: 0 0.4em 0.5em 0.4em;box-sizing: border-box;padding-bottom: 0.4em;background-color: white;}#sk-container-id-1 div.sk-label label {font-family: monospace;font-weight: bold;display: inline-block;line-height: 1.2em;}#sk-container-id-1 div.sk-label-container {text-align: center;}#sk-container-id-1 div.sk-container {/* jupyter's `normalize.less` sets `[hidden] { display: none; }` but bootstrap.min.css set `[hidden] { display: none !important; }` so we also need the `!important` here to be able to override the default hidden behavior on the sphinx rendered scikit-learn.org. See: https://github.com/scikit-learn/scikit-learn/issues/21755 */display: inline-block !important;position: relative;}#sk-container-id-1 div.sk-text-repr-fallback {display: none;}</style><div id=\"sk-container-id-1\" class=\"sk-top-container\"><div class=\"sk-text-repr-fallback\"><pre>StandardScaler()</pre><b>In a Jupyter environment, please rerun this cell to show the HTML representation or trust the notebook. <br />On GitHub, the HTML representation is unable to render, please try loading this page with nbviewer.org.</b></div><div class=\"sk-container\" hidden><div class=\"sk-item\"><div class=\"sk-estimator sk-toggleable\"><input class=\"sk-toggleable__control sk-hidden--visually\" id=\"sk-estimator-id-1\" type=\"checkbox\" checked><label for=\"sk-estimator-id-1\" class=\"sk-toggleable__label sk-toggleable__label-arrow\">StandardScaler</label><div class=\"sk-toggleable__content\"><pre>StandardScaler()</pre></div></div></div></div></div>"
      ],
      "text/plain": [
       "StandardScaler()"
      ]
     },
     "execution_count": 17,
     "metadata": {},
     "output_type": "execute_result"
    }
   ],
   "source": [
    "scaler.fit(x_train)"
   ]
  },
  {
   "cell_type": "code",
   "execution_count": 18,
   "id": "eece8526",
   "metadata": {},
   "outputs": [],
   "source": [
    "x_train = scaler.transform(x_train)\n",
    "x_test = scaler.transform(x_test)"
   ]
  },
  {
   "cell_type": "markdown",
   "id": "a1ed18cc",
   "metadata": {},
   "source": [
    "### Preparing model"
   ]
  },
  {
   "cell_type": "code",
   "execution_count": 33,
   "id": "1243c6f8",
   "metadata": {
    "scrolled": false
   },
   "outputs": [],
   "source": [
    "from keras.models import Sequential\n",
    "from keras.layers import Dense"
   ]
  },
  {
   "cell_type": "code",
   "execution_count": 34,
   "id": "e7dad931",
   "metadata": {},
   "outputs": [],
   "source": [
    "model = Sequential()"
   ]
  },
  {
   "cell_type": "code",
   "execution_count": 35,
   "id": "0baf27a9",
   "metadata": {},
   "outputs": [
    {
     "name": "stdout",
     "output_type": "stream",
     "text": [
      "Model: \"sequential\"\n",
      "_________________________________________________________________\n",
      " Layer (type)                Output Shape              Param #   \n",
      "=================================================================\n",
      " input (Dense)               (None, 128)               512       \n",
      "                                                                 \n",
      " layer_1 (Dense)             (None, 64)                8256      \n",
      "                                                                 \n",
      " output (Dense)              (None, 1)                 65        \n",
      "                                                                 \n",
      "=================================================================\n",
      "Total params: 8,833\n",
      "Trainable params: 8,833\n",
      "Non-trainable params: 0\n",
      "_________________________________________________________________\n"
     ]
    }
   ],
   "source": [
    "model.add(Dense(128,input_shape=(3,),activation='relu',name='input'))\n",
    "model.add(Dense(64,activation='relu',name='layer_1'))\n",
    "model.add(Dense(1,activation='linear',name='output'))\n",
    "model.compile(optimizer='adam', loss='mse', metrics=['mae'])\n",
    "model.summary()"
   ]
  },
  {
   "cell_type": "code",
   "execution_count": 36,
   "id": "4b51358b",
   "metadata": {},
   "outputs": [
    {
     "name": "stdout",
     "output_type": "stream",
     "text": [
      "Epoch 1/100\n",
      "12/12 [==============================] - 1s 15ms/step - loss: 533.6348 - mae: 21.4719 - val_loss: 700.5631 - val_mae: 23.7030\n",
      "Epoch 2/100\n",
      "12/12 [==============================] - 0s 4ms/step - loss: 493.9627 - mae: 20.5299 - val_loss: 652.1218 - val_mae: 22.5699\n",
      "Epoch 3/100\n",
      "12/12 [==============================] - 0s 4ms/step - loss: 440.9194 - mae: 19.2689 - val_loss: 586.9326 - val_mae: 20.9867\n",
      "Epoch 4/100\n",
      "12/12 [==============================] - 0s 4ms/step - loss: 370.8768 - mae: 17.4465 - val_loss: 501.3868 - val_mae: 18.9507\n",
      "Epoch 5/100\n",
      "12/12 [==============================] - 0s 4ms/step - loss: 281.9118 - mae: 15.0427 - val_loss: 400.1603 - val_mae: 16.4232\n",
      "Epoch 6/100\n",
      "12/12 [==============================] - 0s 4ms/step - loss: 183.3771 - mae: 12.0199 - val_loss: 296.2549 - val_mae: 13.4522\n",
      "Epoch 7/100\n",
      "12/12 [==============================] - 0s 4ms/step - loss: 103.0612 - mae: 8.8574 - val_loss: 206.7241 - val_mae: 11.0305\n",
      "Epoch 8/100\n",
      "12/12 [==============================] - 0s 4ms/step - loss: 55.9172 - mae: 6.2623 - val_loss: 151.4971 - val_mae: 9.0922\n",
      "Epoch 9/100\n",
      "12/12 [==============================] - 0s 4ms/step - loss: 40.8546 - mae: 5.0410 - val_loss: 123.0042 - val_mae: 7.8586\n",
      "Epoch 10/100\n",
      "12/12 [==============================] - 0s 4ms/step - loss: 34.6226 - mae: 4.5260 - val_loss: 110.5978 - val_mae: 7.3717\n",
      "Epoch 11/100\n",
      "12/12 [==============================] - 0s 4ms/step - loss: 29.5877 - mae: 4.0835 - val_loss: 103.4842 - val_mae: 7.1646\n",
      "Epoch 12/100\n",
      "12/12 [==============================] - 0s 4ms/step - loss: 26.9419 - mae: 3.8696 - val_loss: 96.9496 - val_mae: 6.9286\n",
      "Epoch 13/100\n",
      "12/12 [==============================] - 0s 4ms/step - loss: 25.2119 - mae: 3.7161 - val_loss: 92.6545 - val_mae: 6.7488\n",
      "Epoch 14/100\n",
      "12/12 [==============================] - 0s 4ms/step - loss: 24.0690 - mae: 3.6120 - val_loss: 89.7777 - val_mae: 6.6390\n",
      "Epoch 15/100\n",
      "12/12 [==============================] - 0s 4ms/step - loss: 23.2202 - mae: 3.5300 - val_loss: 88.5182 - val_mae: 6.5649\n",
      "Epoch 16/100\n",
      "12/12 [==============================] - 0s 4ms/step - loss: 22.4481 - mae: 3.4725 - val_loss: 88.5536 - val_mae: 6.5370\n",
      "Epoch 17/100\n",
      "12/12 [==============================] - 0s 4ms/step - loss: 21.7603 - mae: 3.4308 - val_loss: 87.0043 - val_mae: 6.4689\n",
      "Epoch 18/100\n",
      "12/12 [==============================] - 0s 4ms/step - loss: 21.1539 - mae: 3.3642 - val_loss: 85.6818 - val_mae: 6.4067\n",
      "Epoch 19/100\n",
      "12/12 [==============================] - 0s 4ms/step - loss: 20.6665 - mae: 3.3200 - val_loss: 85.4011 - val_mae: 6.3733\n",
      "Epoch 20/100\n",
      "12/12 [==============================] - 0s 4ms/step - loss: 20.1575 - mae: 3.2785 - val_loss: 85.1474 - val_mae: 6.2801\n",
      "Epoch 21/100\n",
      "12/12 [==============================] - 0s 4ms/step - loss: 19.6644 - mae: 3.2427 - val_loss: 85.5373 - val_mae: 6.2550\n",
      "Epoch 22/100\n",
      "12/12 [==============================] - 0s 4ms/step - loss: 19.1846 - mae: 3.2165 - val_loss: 88.8019 - val_mae: 6.2959\n",
      "Epoch 23/100\n",
      "12/12 [==============================] - 0s 4ms/step - loss: 18.8940 - mae: 3.1874 - val_loss: 87.6821 - val_mae: 6.2503\n",
      "Epoch 24/100\n",
      "12/12 [==============================] - 0s 4ms/step - loss: 18.4112 - mae: 3.1438 - val_loss: 84.8573 - val_mae: 6.1197\n",
      "Epoch 25/100\n",
      "12/12 [==============================] - 0s 4ms/step - loss: 18.0144 - mae: 3.1034 - val_loss: 83.3870 - val_mae: 6.0406\n",
      "Epoch 26/100\n",
      "12/12 [==============================] - 0s 4ms/step - loss: 17.6957 - mae: 3.0795 - val_loss: 84.2042 - val_mae: 6.0225\n",
      "Epoch 27/100\n",
      "12/12 [==============================] - 0s 4ms/step - loss: 17.4136 - mae: 3.0486 - val_loss: 83.7610 - val_mae: 5.9713\n",
      "Epoch 28/100\n",
      "12/12 [==============================] - 0s 4ms/step - loss: 17.1218 - mae: 3.0221 - val_loss: 83.0295 - val_mae: 5.9167\n",
      "Epoch 29/100\n",
      "12/12 [==============================] - 0s 4ms/step - loss: 16.8527 - mae: 2.9963 - val_loss: 82.7560 - val_mae: 5.9005\n",
      "Epoch 30/100\n",
      "12/12 [==============================] - 0s 4ms/step - loss: 16.6243 - mae: 2.9858 - val_loss: 82.1284 - val_mae: 5.8208\n",
      "Epoch 31/100\n",
      "12/12 [==============================] - 0s 4ms/step - loss: 16.3970 - mae: 2.9652 - val_loss: 82.1124 - val_mae: 5.8052\n",
      "Epoch 32/100\n",
      "12/12 [==============================] - 0s 4ms/step - loss: 16.2526 - mae: 2.9274 - val_loss: 82.2980 - val_mae: 5.8153\n",
      "Epoch 33/100\n",
      "12/12 [==============================] - 0s 4ms/step - loss: 15.9934 - mae: 2.9168 - val_loss: 84.2871 - val_mae: 5.8619\n",
      "Epoch 34/100\n",
      "12/12 [==============================] - 0s 4ms/step - loss: 15.8472 - mae: 2.9159 - val_loss: 82.8476 - val_mae: 5.7815\n",
      "Epoch 35/100\n",
      "12/12 [==============================] - 0s 4ms/step - loss: 15.7122 - mae: 2.9131 - val_loss: 81.0065 - val_mae: 5.6869\n",
      "Epoch 36/100\n",
      "12/12 [==============================] - 0s 4ms/step - loss: 15.4243 - mae: 2.8632 - val_loss: 81.7495 - val_mae: 5.7051\n",
      "Epoch 37/100\n",
      "12/12 [==============================] - 0s 4ms/step - loss: 15.3038 - mae: 2.8337 - val_loss: 83.8459 - val_mae: 5.7399\n",
      "Epoch 38/100\n",
      "12/12 [==============================] - 0s 4ms/step - loss: 15.1484 - mae: 2.8262 - val_loss: 82.2138 - val_mae: 5.6764\n",
      "Epoch 39/100\n",
      "12/12 [==============================] - 0s 4ms/step - loss: 14.9693 - mae: 2.8226 - val_loss: 80.3731 - val_mae: 5.6076\n",
      "Epoch 40/100\n",
      "12/12 [==============================] - 0s 4ms/step - loss: 14.8283 - mae: 2.8028 - val_loss: 81.0279 - val_mae: 5.6164\n",
      "Epoch 41/100\n",
      "12/12 [==============================] - 0s 4ms/step - loss: 14.6875 - mae: 2.7981 - val_loss: 79.9731 - val_mae: 5.5725\n",
      "Epoch 42/100\n",
      "12/12 [==============================] - 0s 4ms/step - loss: 14.5706 - mae: 2.7799 - val_loss: 80.0235 - val_mae: 5.5532\n",
      "Epoch 43/100\n",
      "12/12 [==============================] - 0s 4ms/step - loss: 14.5758 - mae: 2.7953 - val_loss: 80.3377 - val_mae: 5.5451\n",
      "Epoch 44/100\n",
      "12/12 [==============================] - 0s 4ms/step - loss: 14.3475 - mae: 2.7502 - val_loss: 82.6918 - val_mae: 5.5994\n",
      "Epoch 45/100\n",
      "12/12 [==============================] - 0s 4ms/step - loss: 14.2818 - mae: 2.7421 - val_loss: 81.0457 - val_mae: 5.5163\n",
      "Epoch 46/100\n",
      "12/12 [==============================] - 0s 4ms/step - loss: 14.1453 - mae: 2.7270 - val_loss: 80.3643 - val_mae: 5.5135\n",
      "Epoch 47/100\n",
      "12/12 [==============================] - 0s 4ms/step - loss: 14.0331 - mae: 2.7209 - val_loss: 79.7703 - val_mae: 5.4945\n",
      "Epoch 48/100\n",
      "12/12 [==============================] - 0s 4ms/step - loss: 13.9606 - mae: 2.7196 - val_loss: 79.8515 - val_mae: 5.4918\n",
      "Epoch 49/100\n",
      "12/12 [==============================] - 0s 4ms/step - loss: 13.8828 - mae: 2.7006 - val_loss: 80.0262 - val_mae: 5.4662\n",
      "Epoch 50/100\n",
      "12/12 [==============================] - 0s 4ms/step - loss: 13.8363 - mae: 2.6816 - val_loss: 80.4058 - val_mae: 5.4696\n",
      "Epoch 51/100\n",
      "12/12 [==============================] - 0s 4ms/step - loss: 13.8275 - mae: 2.6892 - val_loss: 79.5322 - val_mae: 5.4003\n",
      "Epoch 52/100\n",
      "12/12 [==============================] - 0s 4ms/step - loss: 13.7064 - mae: 2.6629 - val_loss: 79.2263 - val_mae: 5.4081\n",
      "Epoch 53/100\n",
      "12/12 [==============================] - 0s 4ms/step - loss: 13.5379 - mae: 2.6475 - val_loss: 81.3117 - val_mae: 5.4630\n",
      "Epoch 54/100\n",
      "12/12 [==============================] - 0s 4ms/step - loss: 13.4866 - mae: 2.6603 - val_loss: 83.1679 - val_mae: 5.5370\n",
      "Epoch 55/100\n",
      "12/12 [==============================] - 0s 4ms/step - loss: 13.3018 - mae: 2.6471 - val_loss: 79.2012 - val_mae: 5.4519\n",
      "Epoch 56/100\n",
      "12/12 [==============================] - 0s 4ms/step - loss: 13.3891 - mae: 2.6623 - val_loss: 78.5110 - val_mae: 5.4044\n",
      "Epoch 57/100\n",
      "12/12 [==============================] - 0s 4ms/step - loss: 13.1524 - mae: 2.6317 - val_loss: 80.7453 - val_mae: 5.4399\n",
      "Epoch 58/100\n",
      "12/12 [==============================] - 0s 4ms/step - loss: 13.2206 - mae: 2.6323 - val_loss: 79.9383 - val_mae: 5.4321\n",
      "Epoch 59/100\n",
      "12/12 [==============================] - 0s 4ms/step - loss: 13.2356 - mae: 2.6230 - val_loss: 77.4814 - val_mae: 5.3394\n",
      "Epoch 60/100\n",
      "12/12 [==============================] - 0s 4ms/step - loss: 12.9593 - mae: 2.5901 - val_loss: 79.8145 - val_mae: 5.3486\n",
      "Epoch 61/100\n",
      "12/12 [==============================] - 0s 4ms/step - loss: 12.9797 - mae: 2.5906 - val_loss: 78.5153 - val_mae: 5.2935\n"
     ]
    },
    {
     "name": "stdout",
     "output_type": "stream",
     "text": [
      "Epoch 62/100\n",
      "12/12 [==============================] - 0s 4ms/step - loss: 13.2635 - mae: 2.6521 - val_loss: 76.9077 - val_mae: 5.3411\n",
      "Epoch 63/100\n",
      "12/12 [==============================] - 0s 4ms/step - loss: 13.0233 - mae: 2.6038 - val_loss: 82.2273 - val_mae: 5.4720\n",
      "Epoch 64/100\n",
      "12/12 [==============================] - 0s 4ms/step - loss: 12.8083 - mae: 2.5750 - val_loss: 78.8031 - val_mae: 5.3425\n",
      "Epoch 65/100\n",
      "12/12 [==============================] - 0s 4ms/step - loss: 12.7730 - mae: 2.5863 - val_loss: 79.5401 - val_mae: 5.3652\n",
      "Epoch 66/100\n",
      "12/12 [==============================] - 0s 4ms/step - loss: 12.6315 - mae: 2.5682 - val_loss: 77.2716 - val_mae: 5.2595\n",
      "Epoch 67/100\n",
      "12/12 [==============================] - 0s 4ms/step - loss: 12.6394 - mae: 2.5368 - val_loss: 79.8389 - val_mae: 5.2841\n",
      "Epoch 68/100\n",
      "12/12 [==============================] - 0s 4ms/step - loss: 12.4522 - mae: 2.5101 - val_loss: 79.6421 - val_mae: 5.2885\n",
      "Epoch 69/100\n",
      "12/12 [==============================] - 0s 4ms/step - loss: 12.5280 - mae: 2.5383 - val_loss: 78.7433 - val_mae: 5.2914\n",
      "Epoch 70/100\n",
      "12/12 [==============================] - 0s 4ms/step - loss: 12.4907 - mae: 2.5293 - val_loss: 81.9499 - val_mae: 5.3492\n",
      "Epoch 71/100\n",
      "12/12 [==============================] - 0s 4ms/step - loss: 12.5224 - mae: 2.5466 - val_loss: 77.2412 - val_mae: 5.1752\n",
      "Epoch 72/100\n",
      "12/12 [==============================] - 0s 4ms/step - loss: 12.4143 - mae: 2.5020 - val_loss: 80.5675 - val_mae: 5.2827\n",
      "Epoch 73/100\n",
      "12/12 [==============================] - 0s 4ms/step - loss: 12.2992 - mae: 2.5023 - val_loss: 79.4100 - val_mae: 5.2568\n",
      "Epoch 74/100\n",
      "12/12 [==============================] - 0s 4ms/step - loss: 12.2981 - mae: 2.4858 - val_loss: 79.1106 - val_mae: 5.2283\n",
      "Epoch 75/100\n",
      "12/12 [==============================] - 0s 4ms/step - loss: 12.2799 - mae: 2.4821 - val_loss: 77.7846 - val_mae: 5.1786\n",
      "Epoch 76/100\n",
      "12/12 [==============================] - 0s 4ms/step - loss: 12.2454 - mae: 2.4935 - val_loss: 77.5657 - val_mae: 5.1628\n",
      "Epoch 77/100\n",
      "12/12 [==============================] - 0s 4ms/step - loss: 12.1833 - mae: 2.4838 - val_loss: 76.9932 - val_mae: 5.1654\n",
      "Epoch 78/100\n",
      "12/12 [==============================] - 0s 4ms/step - loss: 11.9606 - mae: 2.4649 - val_loss: 80.0051 - val_mae: 5.2647\n",
      "Epoch 79/100\n",
      "12/12 [==============================] - 0s 4ms/step - loss: 12.0149 - mae: 2.4660 - val_loss: 78.1313 - val_mae: 5.1902\n",
      "Epoch 80/100\n",
      "12/12 [==============================] - 0s 4ms/step - loss: 12.0815 - mae: 2.4881 - val_loss: 80.5970 - val_mae: 5.2942\n",
      "Epoch 81/100\n",
      "12/12 [==============================] - 0s 4ms/step - loss: 11.9363 - mae: 2.4631 - val_loss: 78.7871 - val_mae: 5.1986\n",
      "Epoch 82/100\n",
      "12/12 [==============================] - 0s 4ms/step - loss: 12.1673 - mae: 2.4852 - val_loss: 77.7869 - val_mae: 5.1668\n",
      "Epoch 83/100\n",
      "12/12 [==============================] - 0s 4ms/step - loss: 11.7802 - mae: 2.4456 - val_loss: 79.6187 - val_mae: 5.2409\n",
      "Epoch 84/100\n",
      "12/12 [==============================] - 0s 4ms/step - loss: 11.9088 - mae: 2.4759 - val_loss: 79.0587 - val_mae: 5.1968\n",
      "Epoch 85/100\n",
      "12/12 [==============================] - 0s 4ms/step - loss: 11.7371 - mae: 2.4427 - val_loss: 79.7274 - val_mae: 5.1904\n",
      "Epoch 86/100\n",
      "12/12 [==============================] - 0s 4ms/step - loss: 11.6827 - mae: 2.4290 - val_loss: 79.7611 - val_mae: 5.2523\n",
      "Epoch 87/100\n",
      "12/12 [==============================] - 0s 4ms/step - loss: 11.6222 - mae: 2.4280 - val_loss: 78.3028 - val_mae: 5.1607\n",
      "Epoch 88/100\n",
      "12/12 [==============================] - 0s 4ms/step - loss: 11.6559 - mae: 2.4277 - val_loss: 77.1765 - val_mae: 5.1750\n",
      "Epoch 89/100\n",
      "12/12 [==============================] - 0s 4ms/step - loss: 11.6990 - mae: 2.4278 - val_loss: 77.9307 - val_mae: 5.1708\n",
      "Epoch 90/100\n",
      "12/12 [==============================] - 0s 4ms/step - loss: 11.7585 - mae: 2.4344 - val_loss: 78.4508 - val_mae: 5.1317\n",
      "Epoch 91/100\n",
      "12/12 [==============================] - 0s 4ms/step - loss: 11.4348 - mae: 2.4047 - val_loss: 82.0309 - val_mae: 5.3007\n",
      "Epoch 92/100\n",
      "12/12 [==============================] - 0s 4ms/step - loss: 11.5842 - mae: 2.4461 - val_loss: 79.4876 - val_mae: 5.1728\n",
      "Epoch 93/100\n",
      "12/12 [==============================] - 0s 4ms/step - loss: 11.3687 - mae: 2.3858 - val_loss: 78.2288 - val_mae: 5.1482\n",
      "Epoch 94/100\n",
      "12/12 [==============================] - 0s 4ms/step - loss: 11.3622 - mae: 2.3897 - val_loss: 79.7338 - val_mae: 5.2032\n",
      "Epoch 95/100\n",
      "12/12 [==============================] - 0s 4ms/step - loss: 11.4020 - mae: 2.4041 - val_loss: 80.8492 - val_mae: 5.2475\n",
      "Epoch 96/100\n",
      "12/12 [==============================] - 0s 4ms/step - loss: 11.3479 - mae: 2.3995 - val_loss: 78.5358 - val_mae: 5.1344\n",
      "Epoch 97/100\n",
      "12/12 [==============================] - 0s 4ms/step - loss: 11.2425 - mae: 2.3756 - val_loss: 79.6663 - val_mae: 5.1759\n",
      "Epoch 98/100\n",
      "12/12 [==============================] - 0s 4ms/step - loss: 11.1852 - mae: 2.3833 - val_loss: 82.1618 - val_mae: 5.2211\n",
      "Epoch 99/100\n",
      "12/12 [==============================] - 0s 4ms/step - loss: 11.2284 - mae: 2.3689 - val_loss: 79.5902 - val_mae: 5.1651\n",
      "Epoch 100/100\n",
      "12/12 [==============================] - 0s 4ms/step - loss: 11.0942 - mae: 2.3661 - val_loss: 80.9821 - val_mae: 5.2062\n"
     ]
    },
    {
     "data": {
      "text/plain": [
       "<keras.callbacks.History at 0x215f1a712a0>"
      ]
     },
     "execution_count": 36,
     "metadata": {},
     "output_type": "execute_result"
    }
   ],
   "source": [
    "model.fit(x_train,y_train,epochs=100,validation_split=0.05)"
   ]
  },
  {
   "cell_type": "code",
   "execution_count": 37,
   "id": "e2afb08a",
   "metadata": {},
   "outputs": [
    {
     "name": "stdout",
     "output_type": "stream",
     "text": [
      "4/4 [==============================] - 0s 1ms/step - loss: 22.5673 - mae: 3.0946\n"
     ]
    }
   ],
   "source": [
    "output = model.evaluate(x_test,y_test)"
   ]
  },
  {
   "cell_type": "code",
   "execution_count": 38,
   "id": "b7bf34bd",
   "metadata": {},
   "outputs": [
    {
     "name": "stdout",
     "output_type": "stream",
     "text": [
      "Mean Squared Error: 22.56728172302246\n",
      "Mean Absolute Error: 3.0945959091186523\n"
     ]
    }
   ],
   "source": [
    "print(f\"Mean Squared Error: {output[0]}\"\n",
    "      ,f\"Mean Absolute Error: {output[1]}\",sep=\"\\n\")"
   ]
  },
  {
   "cell_type": "code",
   "execution_count": 39,
   "id": "85333e40",
   "metadata": {},
   "outputs": [
    {
     "name": "stdout",
     "output_type": "stream",
     "text": [
      "4/4 [==============================] - 0s 1ms/step\n"
     ]
    }
   ],
   "source": [
    "y_pred = model.predict(x=x_test)"
   ]
  },
  {
   "cell_type": "code",
   "execution_count": 40,
   "id": "4be4c127",
   "metadata": {
    "scrolled": false
   },
   "outputs": [
    {
     "name": "stdout",
     "output_type": "stream",
     "text": [
      "(array([24.60171], dtype=float32), 28.4) (array([30.664452], dtype=float32), 31.1) (array([26.017113], dtype=float32), 23.5) (array([28.056175], dtype=float32), 26.6) (array([19.365273], dtype=float32), 19.6) (array([16.57747], dtype=float32), 14.3) (array([41.624435], dtype=float32), 50.0) (array([15.018083], dtype=float32), 14.3) (array([19.52955], dtype=float32), 20.7) (array([42.47429], dtype=float32), 37.6) (array([17.833023], dtype=float32), 20.4) (array([26.735968], dtype=float32), 27.5) (array([22.182968], dtype=float32), 36.2) (array([31.879978], dtype=float32), 32.0) (array([30.680368], dtype=float32), 33.1) (array([52.091805], dtype=float32), 48.8) (array([25.726532], dtype=float32), 24.6) (array([19.376106], dtype=float32), 26.4) (array([21.4216], dtype=float32), 23.2) (array([19.57407], dtype=float32), 17.0) (array([33.012657], dtype=float32), 41.3) (array([15.293643], dtype=float32), 14.9) (array([22.166063], dtype=float32), 18.5) (array([24.824291], dtype=float32), 25.0) (array([36.65741], dtype=float32), 36.4) (array([21.11292], dtype=float32), 19.5) (array([18.798416], dtype=float32), 27.1) (array([16.521847], dtype=float32), 14.9) (array([42.473045], dtype=float32), 46.0) (array([10.963404], dtype=float32), 17.9) (array([34.407303], dtype=float32), 30.3) (array([32.043583], dtype=float32), 31.6) (array([26.001146], dtype=float32), 23.1) (array([23.550507], dtype=float32), 24.7) (array([14.729808], dtype=float32), 16.7) (array([19.379833], dtype=float32), 18.3) (array([8.514339], dtype=float32), 8.4) (array([32.45508], dtype=float32), 37.3) (array([23.936333], dtype=float32), 22.1) (array([24.032452], dtype=float32), 22.0) (array([38.75165], dtype=float32), 46.7) (array([26.065678], dtype=float32), 30.1) (array([13.506274], dtype=float32), 12.1) (array([29.214783], dtype=float32), 29.1) (array([17.234665], dtype=float32), 16.6) (array([27.058432], dtype=float32), 23.9) (array([18.126753], dtype=float32), 19.9) (array([18.928585], dtype=float32), 21.4) (array([44.201416], dtype=float32), 45.4) (array([16.305935], dtype=float32), 15.6) (array([20.384277], dtype=float32), 22.7) (array([14.108174], dtype=float32), 12.5) (array([20.409473], dtype=float32), 24.3) (array([39.184643], dtype=float32), 43.8) (array([25.114895], dtype=float32), 22.0) (array([34.52045], dtype=float32), 33.8) (array([19.384502], dtype=float32), 19.3) (array([19.253433], dtype=float32), 22.6) (array([21.258627], dtype=float32), 16.1) (array([22.3628], dtype=float32), 15.0) (array([18.95927], dtype=float32), 19.6) (array([20.995617], dtype=float32), 21.2) (array([51.450542], dtype=float32), 50.0) (array([56.357178], dtype=float32), 50.0) (array([27.469229], dtype=float32), 29.4) (array([14.675586], dtype=float32), 17.8) (array([24.013138], dtype=float32), 22.8) (array([12.546129], dtype=float32), 8.8) (array([26.952059], dtype=float32), 32.5) (array([40.565266], dtype=float32), 42.8) (array([16.378803], dtype=float32), 12.6) (array([28.252998], dtype=float32), 28.6) (array([17.617228], dtype=float32), 19.1) (array([21.621666], dtype=float32), 50.0) (array([22.175629], dtype=float32), 27.5) (array([11.451713], dtype=float32), 23.7) (array([47.745205], dtype=float32), 50.0) (array([10.265003], dtype=float32), 7.2) (array([19.703865], dtype=float32), 18.7) (array([32.430008], dtype=float32), 37.0) (array([20.234272], dtype=float32), 22.9) (array([25.265324], dtype=float32), 22.9) (array([19.725721], dtype=float32), 17.1) (array([24.762123], dtype=float32), 22.0) (array([31.118317], dtype=float32), 23.6) (array([26.842913], dtype=float32), 23.9) (array([26.125021], dtype=float32), 27.1) (array([33.931156], dtype=float32), 29.0) (array([24.323544], dtype=float32), 22.2) (array([10.816375], dtype=float32), 7.0) (array([23.445763], dtype=float32), 20.7) (array([20.53513], dtype=float32), 18.5) (array([23.611698], dtype=float32), 21.6) (array([24.39213], dtype=float32), 23.0) (array([18.583744], dtype=float32), 16.0) (array([19.623592], dtype=float32), 15.0) (array([25.518456], dtype=float32), 23.9) (array([19.29038], dtype=float32), 24.4) (array([21.173504], dtype=float32), 22.6) (array([18.989922], dtype=float32), 19.8) (array([22.214844], dtype=float32), 22.2) (array([20.212942], dtype=float32), 18.6) (array([19.590885], dtype=float32), 19.7) (array([24.478285], dtype=float32), 23.1) (array([13.464245], dtype=float32), 13.5) (array([20.869154], dtype=float32), 21.2) (array([18.862766], dtype=float32), 23.1) (array([15.215934], dtype=float32), 13.6) (array([28.277054], dtype=float32), 22.8) (array([23.879818], dtype=float32), 18.2) (array([11.541101], dtype=float32), 13.1) (array([17.953568], dtype=float32), 23.2) (array([24.865746], dtype=float32), 22.8) (array([24.806358], dtype=float32), 25.1) (array([21.267847], dtype=float32), 18.9) (array([13.245629], dtype=float32), 10.9) (array([13.694393], dtype=float32), 19.3) (array([19.903954], dtype=float32), 17.4) (array([18.453947], dtype=float32), 15.6) (array([20.262047], dtype=float32), 20.6) (array([30.648552], dtype=float32), 50.0) (array([35.131115], dtype=float32), 32.7) (array([20.420938], dtype=float32), 21.8) (array([16.284004], dtype=float32), 13.4) (array([17.481005], dtype=float32), 16.6) (array([23.810738], dtype=float32), 23.6) (array([12.755333], dtype=float32), 11.0)\n"
     ]
    }
   ],
   "source": [
    "print(*zip(y_pred,y_test))"
   ]
  },
  {
   "cell_type": "code",
   "execution_count": null,
   "id": "fbaee296",
   "metadata": {},
   "outputs": [],
   "source": []
  }
 ],
 "metadata": {
  "kernelspec": {
   "display_name": "Python 3 (ipykernel)",
   "language": "python",
   "name": "python3"
  },
  "language_info": {
   "codemirror_mode": {
    "name": "ipython",
    "version": 3
   },
   "file_extension": ".py",
   "mimetype": "text/x-python",
   "name": "python",
   "nbconvert_exporter": "python",
   "pygments_lexer": "ipython3",
   "version": "3.10.11"
  }
 },
 "nbformat": 4,
 "nbformat_minor": 5
}
